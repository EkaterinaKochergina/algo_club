{
 "cells": [
  {
   "cell_type": "code",
   "execution_count": 17,
   "metadata": {
    "collapsed": true
   },
   "outputs": [],
   "source": [
    "import turtle"
   ]
  },
  {
   "cell_type": "code",
   "execution_count": 39,
   "metadata": {
    "collapsed": true
   },
   "outputs": [],
   "source": [
    "p1=(-500,-500)\n",
    "p2=(500, -500)\n",
    "p3=(500, 500)\n",
    "p4=(-500, 500)"
   ]
  },
  {
   "cell_type": "code",
   "execution_count": 40,
   "metadata": {
    "collapsed": true
   },
   "outputs": [],
   "source": [
    "def mix(p1, p2, alpha):\n",
    "    return tuple(t1*(1-alpha)+t2*alpha for t1, t2 in zip(p1,p2))"
   ]
  },
  {
   "cell_type": "code",
   "execution_count": 41,
   "metadata": {
    "collapsed": false
   },
   "outputs": [],
   "source": [
    "alpha=0.05\n",
    "turtle.speed(0)\n",
    "turtle.clear()\n",
    "for t in range(70):\n",
    "    turtle.up()\n",
    "    turtle.goto(*p1)\n",
    "    turtle.down()\n",
    "    turtle.goto(*p2)\n",
    "    turtle.goto(*p3)\n",
    "    turtle.goto(*p4)\n",
    "    turtle.goto(*p1)\n",
    "    q1=mix(p1, p2, alpha)\n",
    "    q2=mix(p2, p3, alpha)\n",
    "    q3=mix(p3, p4, alpha)\n",
    "    q4=mix(p4, p1, alpha)\n",
    "    p1, p2, p3, p4 = q1, q2, q3, q4"
   ]
  },
  {
   "cell_type": "code",
   "execution_count": null,
   "metadata": {
    "collapsed": true
   },
   "outputs": [],
   "source": []
  }
 ],
 "metadata": {
  "kernelspec": {
   "display_name": "Python 3",
   "language": "python",
   "name": "python3"
  },
  "language_info": {
   "codemirror_mode": {
    "name": "ipython",
    "version": 3
   },
   "file_extension": ".py",
   "mimetype": "text/x-python",
   "name": "python",
   "nbconvert_exporter": "python",
   "pygments_lexer": "ipython3",
   "version": "3.5.2"
  }
 },
 "nbformat": 4,
 "nbformat_minor": 1
}
