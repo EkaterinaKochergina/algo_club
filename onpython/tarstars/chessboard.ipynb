{
 "cells": [
  {
   "cell_type": "code",
   "execution_count": 1,
   "metadata": {
    "collapsed": false
   },
   "outputs": [],
   "source": [
    "import turtle\n",
    "from PIL import Image"
   ]
  },
  {
   "cell_type": "code",
   "execution_count": 2,
   "metadata": {
    "collapsed": true
   },
   "outputs": [],
   "source": [
    "def square(size, fill):\n",
    "    turtle.fillcolor({True:(1, 0, 0), False:(1, 1, 0)}[fill])\n",
    "    turtle.begin_fill()\n",
    "    for t in range(4):\n",
    "        turtle.forward(size)\n",
    "        turtle.left(90)\n",
    "    turtle.end_fill()"
   ]
  },
  {
   "cell_type": "code",
   "execution_count": 3,
   "metadata": {
    "collapsed": false
   },
   "outputs": [],
   "source": [
    "sq=25\n",
    "n=8\n",
    "turtle.speed(0)\n",
    "turtle.setup(width=(n+1)*sq, height=(n+1)*sq, startx=None, starty=None)\n",
    "for p in range(n):\n",
    "    for q in range(n):\n",
    "        turtle.up()\n",
    "        turtle.goto((q-(n)/2)*sq, (p-(n)/2)*sq)\n",
    "        square(sq, (p+q)%2==0)"
   ]
  },
  {
   "cell_type": "code",
   "execution_count": 4,
   "metadata": {
    "collapsed": false
   },
   "outputs": [
    {
     "data": {
      "image/png": "[encoded data removed]",
      "text/plain": [
       "<PIL.Image.Image image mode=RGB size=157x157 at 0x7F12996AD390>"
      ]
     },
     "execution_count": 4,
     "metadata": {},
     "output_type": "execute_result"
    }
   ],
   "source": [
    "flnm='t.ps'\n",
    "turtle.getcanvas().postscript(file=flnm)\n",
    "img=Image.open(flnm)\n",
    "img.convert()"
   ]
  }
 ],
 "metadata": {
  "kernelspec": {
   "display_name": "Python 3",
   "language": "python",
   "name": "python3"
  },
  "language_info": {
   "codemirror_mode": {
    "name": "ipython",
    "version": 3
   },
   "file_extension": ".py",
   "mimetype": "text/x-python",
   "name": "python",
   "nbconvert_exporter": "python",
   "pygments_lexer": "ipython3",
   "version": "3.5.2"
  }
 },
 "nbformat": 4,
 "nbformat_minor": 1
}
