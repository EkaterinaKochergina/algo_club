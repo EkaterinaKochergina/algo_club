{
 "cells": [
  {
   "cell_type": "code",
   "execution_count": 1,
   "metadata": {
    "collapsed": true
   },
   "outputs": [],
   "source": [
    "import turtle\n",
    "import math"
   ]
  },
  {
   "cell_type": "code",
   "execution_count": 7,
   "metadata": {
    "collapsed": true
   },
   "outputs": [],
   "source": [
    "def norm(p):\n",
    "    return math.hypot(p[0], p[1])\n",
    "def unity(p):\n",
    "    r = norm(p)\n",
    "    return (p[0]/r, p[1]/r)\n",
    "def ccw(p):\n",
    "    return (-p[1], p[0])\n",
    "def dot(p1,p2):\n",
    "    return sum(t1*t2 for t1,t2 in zip(p1,p2))\n",
    "def mul(p, k):\n",
    "    return tuple(t*k for t in p)\n",
    "def plus(p1, p2):\n",
    "    return tuple(t1+t2 for t1, t2 in zip(p1, p2))\n",
    "def shift(p):\n",
    "    turtle.goto(*sum(turtle.position(), p))\n",
    "def line(p1, p2, c=(0, 0, 0)):\n",
    "    turtle.up()\n",
    "    turtle.pencolor(c)\n",
    "    turtle.goto(*p1)\n",
    "    turtle.down()\n",
    "    turtle.goto(*p2)"
   ]
  },
  {
   "cell_type": "code",
   "execution_count": 8,
   "metadata": {
    "collapsed": true
   },
   "outputs": [],
   "source": []
  },
  {
   "cell_type": "code",
   "execution_count": null,
   "metadata": {
    "collapsed": false
   },
   "outputs": [],
   "source": [
    "turtle.speed(0)\n",
    "turtle.delay(0.1)\n",
    "\n",
    "for t in range(0, 629*10, 5):\n",
    "    phi_system = t/100/3\n",
    "    e11 = (17*math.cos(phi_system), 17*math.sin(phi_system))\n",
    "    e1 = unity(e11)\n",
    "    e2 = ccw(e1)\n",
    "    e1d = mul(e1, 50)\n",
    "    e2d = mul(e2, 50)\n",
    "    \n",
    "    turtle.home()\n",
    "    turtle.clear()\n",
    "    phi = t/100\n",
    "    r=(1, 0, 0)\n",
    "    g=(0, 1, 0)\n",
    "\n",
    "    p=(250*math.cos(phi),250*math.sin(phi))\n",
    "    px=dot(p, e1)\n",
    "    py=dot(p, e2)\n",
    "    sh1 = mul(e2, -5)\n",
    "    sh2 = mul(e1, -5)\n",
    "\n",
    "    line(plus(sh1, (0, 0)), plus(sh1, e1d), r)\n",
    "    line(plus(sh2, (0, 0)), plus(sh2, e2d), g)\n",
    "    \n",
    "    line((0, 0),  mul(e1,px), r)\n",
    "    line((0, 0),  mul(e2,py), g)\n",
    "    line((0,0), p)\n",
    "    \n",
    "    turtle.time.sleep(0.05)"
   ]
  },
  {
   "cell_type": "code",
   "execution_count": 14,
   "metadata": {
    "collapsed": false
   },
   "outputs": [],
   "source": []
  },
  {
   "cell_type": "code",
   "execution_count": null,
   "metadata": {
    "collapsed": true
   },
   "outputs": [],
   "source": []
  }
 ],
 "metadata": {
  "kernelspec": {
   "display_name": "Python 3",
   "language": "python",
   "name": "python3"
  },
  "language_info": {
   "codemirror_mode": {
    "name": "ipython",
    "version": 3
   },
   "file_extension": ".py",
   "mimetype": "text/x-python",
   "name": "python",
   "nbconvert_exporter": "python",
   "pygments_lexer": "ipython3",
   "version": "3.4.5"
  }
 },
 "nbformat": 4,
 "nbformat_minor": 2
}
