{
 "cells": [
  {
   "cell_type": "code",
   "execution_count": 3,
   "metadata": {
    "collapsed": true
   },
   "outputs": [],
   "source": [
    "#!/usr/bin/python\n",
    "import turtle\n",
    "import time\n",
    "import random\n",
    "\n",
    "def tilted_square():\n",
    "    turtle.left(45)     # now we can change the angle only here\n",
    "    for i in range(4):\n",
    "        turtle.forward(50)\n",
    "        turtle.left(90)\n",
    "tilted_square()\n",
    "tilted_square()\n",
    "tilted_square()"
   ]
  },
  {
   "cell_type": "code",
   "execution_count": 4,
   "metadata": {
    "collapsed": false
   },
   "outputs": [
    {
     "name": "stdout",
     "output_type": "stream",
     "text": [
      "Enter the side number of the shape you want to draw: 6\n",
      "(-71.77,15.57)\n",
      "(-116.30,-37.51)\n",
      "(-92.60,-102.61)\n",
      "(-24.37,-114.64)\n",
      "(20.16,-61.57)\n",
      "(-3.54,3.54)\n",
      "(-77.41,7.39)\n",
      "(-112.05,-52.61)\n",
      "(-77.41,-112.61)\n",
      "(-8.13,-112.61)\n",
      "(26.51,-52.61)\n",
      "(-8.13,7.39)\n"
     ]
    }
   ],
   "source": [
    "num_str = input(\"Enter the side number of the shape you want to draw: \")\n",
    "if num_str.isdigit():\n",
    "    squares = int(num_str)\n",
    "angle = 180 - 180*(squares-2)/squares\n",
    "turtle.up\n",
    "x = 0 \n",
    "y = 0\n",
    "turtle.setpos(x,y)\n",
    "numshapes = 2\n",
    "for x in range(numshapes):\n",
    "    turtle.color(random.random(),random.random(), random.random())\n",
    "    x += 5\n",
    "    y += 5\n",
    "    turtle.forward(x)\n",
    "    turtle.left(y)\n",
    "    for i in range(squares):\n",
    "        turtle.begin_fill()\n",
    "        turtle.down()\n",
    "        turtle.forward(40)\n",
    "        turtle.left(angle)\n",
    "        turtle.forward(40)\n",
    "        print (turtle.pos())\n",
    "        turtle.up()\n",
    "        turtle.end_fill()\n",
    "\n",
    "time.sleep(11)\n",
    "turtle.bye()"
   ]
  }
 ],
 "metadata": {
  "kernelspec": {
   "display_name": "Python 3",
   "language": "python",
   "name": "python3"
  },
  "language_info": {
   "codemirror_mode": {
    "name": "ipython",
    "version": 3
   },
   "file_extension": ".py",
   "mimetype": "text/x-python",
   "name": "python",
   "nbconvert_exporter": "python",
   "pygments_lexer": "ipython3",
   "version": "3.5.1"
  }
 },
 "nbformat": 4,
 "nbformat_minor": 0
}
