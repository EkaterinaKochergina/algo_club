{
 "cells": [
  {
   "cell_type": "code",
   "execution_count": 25,
   "metadata": {
    "collapsed": true
   },
   "outputs": [],
   "source": [
    "#1.1 разобрать корректность работы программы вычисления факториала\n",
    "def fact(n):\n",
    "    factorial=1\n",
    "    for t in range(1, n+1):\n",
    "        factorial=s*t\n",
    "    return s\n",
    "\n",
    "# Инвариант: \n",
    "# 1. в переменной factorial лежит произведение всех n натуральных чисел последовательности \n",
    "# 2. если цикл закончился то в t побывали все элементы, лежащие в списке n "
   ]
  },
  {
   "cell_type": "code",
   "execution_count": 26,
   "metadata": {
    "collapsed": false
   },
   "outputs": [
    {
     "data": {
      "text/plain": [
       "120"
      ]
     },
     "execution_count": 26,
     "metadata": {},
     "output_type": "execute_result"
    }
   ],
   "source": [
    "fact(5)"
   ]
  },
  {
   "cell_type": "code",
   "execution_count": null,
   "metadata": {
    "collapsed": true
   },
   "outputs": [],
   "source": []
  },
  {
   "cell_type": "code",
   "execution_count": 39,
   "metadata": {
    "collapsed": true
   },
   "outputs": [],
   "source": [
    "#2.1 распечатать последовательность натуральных чисел n\n",
    "\n",
    "#2.1.1 метод for\n",
    "def posled1(n):\n",
    "    posl = []\n",
    "    for t in range(n):\n",
    "        t += 1\n",
    "        posl.append(t)\n",
    "    return posl\n",
    "\n",
    "#2.1.2 метод while\n",
    "def posled2(n):\n",
    "    posl = []\n",
    "    t=0\n",
    "    while t < n:\n",
    "        t += 1\n",
    "        posl.append(t)\n",
    "    return posl\n",
    "\n",
    "#2.1.3 метод yield\n",
    "def posled3(n):\n",
    "    posl = []\n",
    "    t=0\n",
    "    while t < n:\n",
    "        t += 1\n",
    "        posl.append(t)\n",
    "    yield t\n",
    "    \n",
    "#2.1.4 создание iterator\n",
    "class Box1(object):\n",
    "    def __init__(self):\n",
    "        self.t = 0\n",
    "        \n",
    "    def __next__(self):\n",
    "        self.t += 1\n",
    "        if self.t > 10:\n",
    "            raise StopIteration()\n",
    "        return self.t\n",
    "    \n",
    "    def __iter__(self):\n",
    "        return self"
   ]
  },
  {
   "cell_type": "code",
   "execution_count": 14,
   "metadata": {
    "collapsed": false
   },
   "outputs": [
    {
     "data": {
      "text/plain": [
       "[1, 2, 3, 4, 5]"
      ]
     },
     "execution_count": 14,
     "metadata": {},
     "output_type": "execute_result"
    }
   ],
   "source": [
    "posled1(5)"
   ]
  },
  {
   "cell_type": "code",
   "execution_count": 15,
   "metadata": {
    "collapsed": false
   },
   "outputs": [
    {
     "data": {
      "text/plain": [
       "[1, 2, 3, 4, 5]"
      ]
     },
     "execution_count": 15,
     "metadata": {},
     "output_type": "execute_result"
    }
   ],
   "source": [
    "posled2(5)"
   ]
  },
  {
   "cell_type": "code",
   "execution_count": 21,
   "metadata": {
    "collapsed": false
   },
   "outputs": [],
   "source": [
    "a=posled3(5)"
   ]
  },
  {
   "cell_type": "code",
   "execution_count": 23,
   "metadata": {
    "collapsed": false
   },
   "outputs": [
    {
     "data": {
      "text/plain": [
       "[5]"
      ]
     },
     "execution_count": 23,
     "metadata": {},
     "output_type": "execute_result"
    }
   ],
   "source": [
    "list(a)"
   ]
  },
  {
   "cell_type": "code",
   "execution_count": 40,
   "metadata": {
    "collapsed": true
   },
   "outputs": [],
   "source": [
    "a=Posled()"
   ]
  },
  {
   "cell_type": "code",
   "execution_count": 41,
   "metadata": {
    "collapsed": false
   },
   "outputs": [
    {
     "data": {
      "text/plain": [
       "0"
      ]
     },
     "execution_count": 41,
     "metadata": {},
     "output_type": "execute_result"
    }
   ],
   "source": [
    "a.t"
   ]
  },
  {
   "cell_type": "code",
   "execution_count": 42,
   "metadata": {
    "collapsed": false
   },
   "outputs": [
    {
     "ename": "AttributeError",
     "evalue": "'Posled' object has no attribute 'next'",
     "output_type": "error",
     "traceback": [
      "\u001b[0;31m---------------------------------------------------------------------------\u001b[0m",
      "\u001b[0;31mAttributeError\u001b[0m                            Traceback (most recent call last)",
      "\u001b[0;32m<ipython-input-42-aa817a57a973>\u001b[0m in \u001b[0;36m<module>\u001b[0;34m()\u001b[0m\n\u001b[0;32m----> 1\u001b[0;31m \u001b[0ma\u001b[0m\u001b[0;34m.\u001b[0m\u001b[0mnext\u001b[0m\u001b[0;34m(\u001b[0m\u001b[0;34m)\u001b[0m\u001b[0;34m\u001b[0m\u001b[0m\n\u001b[0m",
      "\u001b[0;31mAttributeError\u001b[0m: 'Posled' object has no attribute 'next'"
     ]
    }
   ],
   "source": [
    "a.next()"
   ]
  },
  {
   "cell_type": "code",
   "execution_count": 5,
   "metadata": {
    "collapsed": false
   },
   "outputs": [],
   "source": [
    "# 2.2 распечатать сумму n первых натуральных чисел\n",
    "# 2.2.1 метод for\n",
    "\n",
    "def summa_nat1(n):\n",
    "    summa=0\n",
    "    for t in range(1, n+1):\n",
    "        summa = summa+t\n",
    "    return summa\n",
    "\n",
    "# 2.2.2 метод while \n",
    "\n",
    "def summa_nat2(n):\n",
    "    summa=0\n",
    "    t=1\n",
    "    while t < n+1 :\n",
    "        summa =  summa+t\n",
    "        t += 1\n",
    "    return summa\n",
    "\n",
    "# 2.2.3 метод yield\n",
    "\n",
    "def summa_nat3(n):\n",
    "    summa=0\n",
    "    t=1\n",
    "    while t < n+1 :\n",
    "        summa =  summa + t\n",
    "        t += 1\n",
    "    yield summa\n",
    "\n",
    "# 2.2.4 iterator\n",
    "\n",
    "class Box2(object):\n",
    "    def __init__(self):\n",
    "        self.s = 0\n",
    "        self.t = 1\n",
    "        \n",
    "    def __next__(self):\n",
    "        self.s += self.t\n",
    "        self.t += 1\n",
    "        if self.t > 10:\n",
    "            raise StopIteration()\n",
    "        return self.s\n",
    "    \n",
    "    def __iter__(self):\n",
    "        return self"
   ]
  },
  {
   "cell_type": "code",
   "execution_count": 7,
   "metadata": {
    "collapsed": false
   },
   "outputs": [
    {
     "data": {
      "text/plain": [
       "15"
      ]
     },
     "execution_count": 7,
     "metadata": {},
     "output_type": "execute_result"
    }
   ],
   "source": [
    "summa_nat2(5)"
   ]
  },
  {
   "cell_type": "code",
   "execution_count": 22,
   "metadata": {
    "collapsed": false
   },
   "outputs": [],
   "source": [
    "#2.3 распечатать сумму первых n натуральных нечетных чисел\n",
    "\n",
    "#2.3.1 метод for\n",
    "\n",
    "def summa_nechet1(n):\n",
    "    summa=0\n",
    "    t=1\n",
    "    for t in range(1, n+1, 2):\n",
    "        summa = summa + t\n",
    "    return summa\n",
    "\n",
    "#2.3.2 метод while\n",
    "\n",
    "def summa_nechet2(n):\n",
    "    summa=0\n",
    "    t=1\n",
    "    while t < n+1:\n",
    "        summa = summa + t\n",
    "        t += 2\n",
    "    return summa\n",
    "\n",
    "#2.3.3 метод yield\n",
    "\n",
    "def summa_nechet3(n):\n",
    "    summa=0\n",
    "    t=1\n",
    "    while t < n+1:\n",
    "        summa = summa + t\n",
    "        t += 2\n",
    "    yield summa\n",
    "\n",
    "#2.3.4 метод iterator\n",
    "class Box3(object):\n",
    "    def __init__(self):\n",
    "        self.s = 0\n",
    "        self.t = 1\n",
    "        \n",
    "    def __next__(self):\n",
    "        self.s += self.t\n",
    "        self.t += 2\n",
    "        if self.t > 10:\n",
    "            raise StopIteration()\n",
    "        return self.s\n",
    "    \n",
    "    def __iter__(self):\n",
    "        return self"
   ]
  },
  {
   "cell_type": "code",
   "execution_count": null,
   "metadata": {
    "collapsed": true
   },
   "outputs": [],
   "source": []
  },
  {
   "cell_type": "code",
   "execution_count": null,
   "metadata": {
    "collapsed": true
   },
   "outputs": [],
   "source": []
  },
  {
   "cell_type": "code",
   "execution_count": null,
   "metadata": {
    "collapsed": true
   },
   "outputs": [],
   "source": []
  },
  {
   "cell_type": "code",
   "execution_count": null,
   "metadata": {
    "collapsed": true
   },
   "outputs": [],
   "source": []
  },
  {
   "cell_type": "code",
   "execution_count": null,
   "metadata": {
    "collapsed": true
   },
   "outputs": [],
   "source": []
  },
  {
   "cell_type": "code",
   "execution_count": null,
   "metadata": {
    "collapsed": true
   },
   "outputs": [],
   "source": []
  },
  {
   "cell_type": "code",
   "execution_count": null,
   "metadata": {
    "collapsed": true
   },
   "outputs": [],
   "source": []
  },
  {
   "cell_type": "code",
   "execution_count": null,
   "metadata": {
    "collapsed": true
   },
   "outputs": [],
   "source": []
  }
 ],
 "metadata": {
  "kernelspec": {
   "display_name": "Python 3",
   "language": "python",
   "name": "python3"
  },
  "language_info": {
   "codemirror_mode": {
    "name": "ipython",
    "version": 3
   },
   "file_extension": ".py",
   "mimetype": "text/x-python",
   "name": "python",
   "nbconvert_exporter": "python",
   "pygments_lexer": "ipython3",
   "version": "3.5.1"
  }
 },
 "nbformat": 4,
 "nbformat_minor": 0
}
