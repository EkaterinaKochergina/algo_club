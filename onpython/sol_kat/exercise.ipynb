{
 "cells": [
  {
   "cell_type": "code",
   "execution_count": null,
   "metadata": {
    "collapsed": true
   },
   "outputs": [],
   "source": [
    "#сумма натурального числа\n",
    "\n",
    "def summa(n):\n",
    "    for t in range(1, n+1):\n",
    "        s = 0\n",
    "        s += t\n",
    "    return s"
   ]
  },
  {
   "cell_type": "code",
   "execution_count": null,
   "metadata": {
    "collapsed": false
   },
   "outputs": [],
   "source": [
    "summa(10)"
   ]
  },
  {
   "cell_type": "code",
   "execution_count": null,
   "metadata": {
    "collapsed": false
   },
   "outputs": [],
   "source": [
    "#произведение натурального числа\n",
    "def deg(n):\n",
    "    for t in range(1, n+1):\n",
    "        t *=t\n",
    "        print(t)\n",
    "    return t"
   ]
  },
  {
   "cell_type": "code",
   "execution_count": null,
   "metadata": {
    "collapsed": false
   },
   "outputs": [],
   "source": [
    "prod(5)"
   ]
  },
  {
   "cell_type": "code",
   "execution_count": null,
   "metadata": {
    "collapsed": false
   },
   "outputs": [],
   "source": [
    "# сумма нечетных натуральных чисел последовательности\n",
    "#1.1\n",
    "def nechet1(n):\n",
    "    s=0\n",
    "    for t in range(1, 2*n+1, 2):\n",
    "        s += t\n",
    "    return s\n",
    "\n",
    "#1.2 \n",
    "def nechet2(n):\n",
    "    s = 0\n",
    "    for t in range(1, n+1):\n",
    "        s += 2*t - 1 \n",
    "    return s"
   ]
  },
  {
   "cell_type": "code",
   "execution_count": null,
   "metadata": {
    "collapsed": false
   },
   "outputs": [],
   "source": [
    "nechet1(5)"
   ]
  },
  {
   "cell_type": "code",
   "execution_count": null,
   "metadata": {
    "collapsed": false
   },
   "outputs": [],
   "source": [
    "nechet2(5)"
   ]
  },
  {
   "cell_type": "code",
   "execution_count": null,
   "metadata": {
    "collapsed": false
   },
   "outputs": [],
   "source": [
    "#работа со списками\n",
    "#1.1 распечатать индекс последнего вхождения заданного элемента в список\n",
    "\n",
    "x = [2, 30, 7, 5, 7, 7, 4]\n",
    "y = 7\n",
    "z = None\n",
    "for i in range(len(x)):\n",
    "    if y == x[i]:\n",
    "        z = i\n",
    "print(z)\n",
    "    \n",
    "#1.2 распечатать индексы всех вхождений заданного элемента в список\n",
    "\n",
    "x = [2, 30, 7, 5, 7, 7, 4]\n",
    "y = 7\n",
    "z = []\n",
    "for i in range(len(x)):\n",
    "    if y == x[i]:\n",
    "        z.append(i)\n",
    "print(z)\n",
    "\n",
    "#1.3 распечатать индекс первого вхождения заданного элемента в список\n",
    "x = [2, 30, 7, 5, 7, 7, 4]\n",
    "y = 7\n",
    "for i in range(len(x)):\n",
    "    if y == x[i]:\n",
    "        print(i)\n",
    "        break\n",
    "\n"
   ]
  },
  {
   "cell_type": "code",
   "execution_count": null,
   "metadata": {
    "collapsed": true
   },
   "outputs": [],
   "source": [
    "#факториал\n",
    "\n",
    "def fact(n):\n",
    "    res = 1\n",
    "    for i in range(1, n+1):\n",
    "        res = res*i\n",
    "    return res\n",
    "        "
   ]
  },
  {
   "cell_type": "code",
   "execution_count": null,
   "metadata": {
    "collapsed": false
   },
   "outputs": [],
   "source": [
    "fact(5)"
   ]
  },
  {
   "cell_type": "code",
   "execution_count": null,
   "metadata": {
    "collapsed": true
   },
   "outputs": [],
   "source": [
    "# найти непарный элемент в массиве\n",
    "\n",
    "def find_unique(x):\n",
    "    ret=0\n",
    "    for t in x:\n",
    "        ret=ret^t\n",
    "    return ret"
   ]
  },
  {
   "cell_type": "code",
   "execution_count": null,
   "metadata": {
    "collapsed": false
   },
   "outputs": [],
   "source": [
    "def testcase(f, inp, outp):\n",
    "    received = f(inp)\n",
    "    if received == outp:\n",
    "        print(\"OK\")\n",
    "    else: \n",
    "        print(\"FAIL: EXPECTED\", outp, \"but received\", received )\n",
    "    \n",
    "def is_prime(n):\n",
    "    for t in range(2, n):\n",
    "        if n % t==0:\n",
    "            return False\n",
    "    return True\n",
    "    \n",
    "testcase (is_prime, 7, True)\n",
    "testcase (is_prime, 4, False)\n",
    "testcase (is_prime, 15, False)\n",
    "testcase (is_prime, 23, True)"
   ]
  },
  {
   "cell_type": "code",
   "execution_count": null,
   "metadata": {
    "collapsed": true
   },
   "outputs": [],
   "source": [
    "#число фиббоначи \n",
    "\n",
    "def fib(n):\n",
    "    a = 0\n",
    "    b = 1\n",
    "    for p in range(n):\n",
    "        a, b = b, a + b\n",
    "    return a"
   ]
  },
  {
   "cell_type": "code",
   "execution_count": null,
   "metadata": {
    "collapsed": false
   },
   "outputs": [],
   "source": [
    "fib(10)"
   ]
  },
  {
   "cell_type": "code",
   "execution_count": null,
   "metadata": {
    "collapsed": false
   },
   "outputs": [],
   "source": [
    "print (\"Подходит ли он тебе?\")\n",
    "print (\"Твой ли это мужчина, будуте ли вы счастливы? Попробуй разобраться\")\n",
    "print (\"1.По каким признакам ты понимаешь,что много значишь для партнера?\")\n",
    "print (\"a)Он ревнует, что ты слишком долго разговариваешь с другими мужчинами. \" \"б)Любимый пытается тебе стать ближе физически и духовно. \" \"в)Он делает подарки,говорит комплименты,признается в любви\")\n",
    "First_question = input(\"Выберите вариант ответа: \")\n",
    "if First_question == str(\"а\"):\n",
    "    First_question =int(3)\n",
    "elif First_question == str(\"б\"):\n",
    "    First_question =int(2)\n",
    "else:\n",
    "    First_question =int(1)\n",
    "print (\"2. Знаешь ли ты, что любимый мужчина особенно ценит в тебе?\")\n",
    "print (\"а)Да, он часто говорит тебе об этом. \" \"б)Ему нравится, как ты выглядишь.\" \"в)Можешь лишь догадываться. \")\n",
    "Second_question = input(\"Выберите вариант ответа: \")\n",
    "if Second_question == str(\"а\"):\n",
    "    Second_question =int(3)\n",
    "elif Second_question  == str(\"б\"):\n",
    "    Second_question =int(2)\n",
    "else:\n",
    "    Second_question =int(1)\n",
    "print (\"Тебя попросили нарисовать сердце,но не красное. Какой цвет ты выберешь?\")\n",
    "print (\"а) Синий-как символ неба и моря. \" \"б) солнечно желтый. \" \"в)Свежий зеленый. \")\n",
    "Third_question = input (\"Выберите вариант ответа: \")\n",
    "if Third_question   == str(\"а\"):\n",
    "   Third_question  =int(1)\n",
    "elif Third_question   == str(\"б\"):\n",
    "   Third_question   =int(3)\n",
    "else:\n",
    "    Third_question  =int(2)\n",
    "print (\"4.Известны ли тебе политичнские взгляды возлюбленного?\")\n",
    "print (\"а)Да,конечно. И ты полностью поддерживаешь его точку зрения. \" \"б)Нет.Но наши мнения по многим вопросам очень часто совпадают. \" \"в)Да.И ты не понимаешь, как он может отдавать свой голос этой партии.\")\n",
    "Fourth_question = input (\"Выберите вариант ответа: \")\n",
    "if Fourth_question  == str(\"а\"):\n",
    "   Fourth_question  =int(2)\n",
    "elif Fourth_question   == str(\"б\"):\n",
    "   Fourth_question  =int(3)\n",
    "else:\n",
    "   Fourth_question =int(1)\n",
    "print (\"Ради настоящей любви ты готова....\")\n",
    "print (\"а)...сделать пластичнскую операцию,чтобы стать неотразимой. \" \"б)...вместе с любимым преодалеть любые преграды. \" \"в)...всем пожертвовать ради своего возлюбленного. \")\n",
    "Fifth_question = input (\"Выберите вариант ответа: \")\n",
    "if Fifth_question== str(\"а\"):\n",
    "    Fifth_question  =int(3)\n",
    "elif Fifth_question   == str(\"б\"):\n",
    "    Fifth_question =int(2)\n",
    "else:\n",
    "   Fifth_question=int(1)\n",
    "print (\"6.На твой взгляд, у кого из вас выше самооценка?\")\n",
    "print (\"а)У него явно выше, чем у меня.\" \"б)Каждый из нас чувствует себя неуверенным в своей области. Но при этом вы хорошо знаете свои сильные и слабые стороны. \" \"в)У вас у обоих нормальная, здоровая самооценка. \")\n",
    "Sixth_question = input (\"Выберите вариант ответа: \")\n",
    "if Sixth_question == str(\"а\"):\n",
    "    Sixth_question=int(3)\n",
    "elif Sixth_question  == str(\"б\"):\n",
    "    Sixth_question =int(1)\n",
    "else:\n",
    "   Sixth_question=int(2)\n",
    "print (\"7.Достаточно ли в вших отношениях личного пространства?\")\n",
    "print (\"а)Да. У вас с партнером разные увлечения. И порой кажется, что у вас даже слишком много свободы. \" \"б)Да, время от времени вы предоставляете друг другу возможность побыть наедине или в кругу своих друзей. \" \"в)Вам так хорошо вместе, что не требуется личного пространства. \")\n",
    "Seventh_question = input (\"Выберите вариант ответа: \")\n",
    "if Seventh_question == str(\"а\"):\n",
    "   Seventh_question =int(1)\n",
    "elif Seventh_question  == str(\"б\"):\n",
    "    Seventh_question =int(2)\n",
    "else:\n",
    "  Seventh_question =int(3)\n",
    "print (\"8.Какие ассоциации у тебя вызывает слово \"\"скала\" \"?\")\n",
    "print (\"а)Ты тут же представляешь своего партнера - он такой надежный! \" \"б)Что-то жестокое,холодное. \" \"в)Море, прибой, отпуск.\")\n",
    "Eighth_question = input (\"Выберите вариант ответа: \")\n",
    "if Eighth_question == str(\"а\"):\n",
    "   Eighth_question =int(3)\n",
    "elif Eighth_question  == str(\"б\"):\n",
    "    Eighth_question =int(1)\n",
    "else:\n",
    "  Eighth_question =int(2)\n",
    "R = int(First_question + Second_question+Third_question+Fourth_question+Fifth_question+Sixth_question+Seventh_question+Eighth_question)\n",
    "print (\"Твой результат: \")\n",
    "print (R)\n",
    "if 6<=R<=12:\n",
    " print (\"Ваши отношения стоятся по принципу \"\"противоположности притягиваются\"\". Иногда вам бывает трудно друг с другом,но никогда не скучно. Старайся найти больше общих интересов. Но не стоит слишком сильно меняться для партнера.\")\n",
    "elif 13<=R<=18:\n",
    "    print (\"Поздравляем!Очевидно, ты нашла свою половинку - мужчину,который настолько похож на тебя,что в отношениях царит полное взаимопонимание и гармония. Открывайте друг в друге новые стороны, чтобы вносить изюминку в ваш союз\")\n",
    "else:\n",
    "    print (\"Со стороны кажется, что вы с любимым созданы друг для друга. Вопрос только: это действительно так\") "
   ]
  },
  {
   "cell_type": "code",
   "execution_count": 37,
   "metadata": {
    "collapsed": false
   },
   "outputs": [],
   "source": [
    "#shaiba\n",
    "\n",
    "import unittest\n",
    "def shaiba(x, y, dx, dy):\n",
    "    if x+dx < 100 and y+dy < 100:\n",
    "        x=x+dx\n",
    "        y=y+dy\n",
    "        if x+dx > 100 and y+dy < 100:\n",
    "            x = x + (-dx)\n",
    "            y = y + dy \n",
    "    if x+dx < 100 and y+dy > 100:\n",
    "        x = x+dx\n",
    "        y = y+(-dy)\n",
    "    if x+dx > 100 and y+dy > 100: \n",
    "        x = x+(-dx)\n",
    "        y = y+(-dy)\n",
    "    return x, y, dx, dy\n"
   ]
  },
  {
   "cell_type": "code",
   "execution_count": null,
   "metadata": {
    "collapsed": false
   },
   "outputs": [],
   "source": [
    "shaiba(99, 50, 1, 0)"
   ]
  },
  {
   "cell_type": "code",
   "execution_count": null,
   "metadata": {
    "collapsed": true
   },
   "outputs": [],
   "source": []
  },
  {
   "cell_type": "code",
   "execution_count": 38,
   "metadata": {
    "collapsed": false
   },
   "outputs": [
    {
     "name": "stdout",
     "output_type": "stream",
     "text": [
      "0 96 50 1 0\n",
      "1 97 50 1 0\n",
      "2 98 50 1 0\n",
      "3 99 50 1 0\n",
      "4 99 50 1 0\n",
      "5 99 50 1 0\n",
      "6 99 50 1 0\n",
      "7 99 50 1 0\n",
      "8 99 50 1 0\n",
      "9 99 50 1 0\n"
     ]
    }
   ],
   "source": [
    "x, y, dx, dy = 95, 50, 1, 0\n",
    "\n",
    "for t in range(10):\n",
    "    x, y, dx, dy = shaiba(x, y, dx, dy)\n",
    "    print(t, x, y, dx, dy)"
   ]
  },
  {
   "cell_type": "code",
   "execution_count": 2,
   "metadata": {
    "collapsed": false
   },
   "outputs": [],
   "source": [
    "import unittest\n",
    "import turtle\n",
    "\n",
    "def shaiba(x, y, dx, dy):\n",
    "    if x + dx > 100 or x + dx < 0:\n",
    "        dx = dx*(-1)\n",
    "    if y + dy > 100 or y + dy < 0:\n",
    "        dy = dy*(-1)\n",
    "    x += dx\n",
    "    y += dy\n",
    "    turtle.goto(x, y)\n",
    "    return x, y, dx, dy\n",
    "\n",
    "x, y, dx, dy = 95, 70, 13, 4\n",
    "\n",
    "for t in range(50):\n",
    "    x, y, dx, dy = shaiba(x, y, dx, dy)\n",
    "    print(t, x, y, dx, dy)   "
   ]
  },
  {
   "cell_type": "code",
   "execution_count": 6,
   "metadata": {
    "collapsed": false
   },
   "outputs": [
    {
     "name": "stdout",
     "output_type": "stream",
     "text": [
      "0 82 74 -13 4\n",
      "1 69 78 -13 4\n",
      "2 56 82 -13 4\n",
      "3 43 86 -13 4\n",
      "4 30 90 -13 4\n",
      "5 17 94 -13 4\n",
      "6 4 98 -13 4\n",
      "7 17 94 13 -4\n",
      "8 30 90 13 -4\n",
      "9 43 86 13 -4\n",
      "10 56 82 13 -4\n",
      "11 69 78 13 -4\n",
      "12 82 74 13 -4\n",
      "13 95 70 13 -4\n",
      "14 82 66 -13 -4\n",
      "15 69 62 -13 -4\n",
      "16 56 58 -13 -4\n",
      "17 43 54 -13 -4\n",
      "18 30 50 -13 -4\n",
      "19 17 46 -13 -4\n",
      "20 4 42 -13 -4\n",
      "21 17 38 13 -4\n",
      "22 30 34 13 -4\n",
      "23 43 30 13 -4\n",
      "24 56 26 13 -4\n",
      "25 69 22 13 -4\n",
      "26 82 18 13 -4\n",
      "27 95 14 13 -4\n",
      "28 82 10 -13 -4\n",
      "29 69 6 -13 -4\n",
      "30 56 2 -13 -4\n",
      "31 43 6 -13 4\n",
      "32 30 10 -13 4\n",
      "33 17 14 -13 4\n",
      "34 4 18 -13 4\n",
      "35 17 22 13 4\n",
      "36 30 26 13 4\n",
      "37 43 30 13 4\n",
      "38 56 34 13 4\n",
      "39 69 38 13 4\n",
      "40 82 42 13 4\n",
      "41 95 46 13 4\n",
      "42 82 50 -13 4\n",
      "43 69 54 -13 4\n",
      "44 56 58 -13 4\n",
      "45 43 62 -13 4\n",
      "46 30 66 -13 4\n",
      "47 17 70 -13 4\n",
      "48 4 74 -13 4\n",
      "49 17 78 13 4\n"
     ]
    }
   ],
   "source": [
    "     "
   ]
  },
  {
   "cell_type": "code",
   "execution_count": 2,
   "metadata": {
    "collapsed": false
   },
   "outputs": [
    {
     "name": "stdout",
     "output_type": "stream",
     "text": [
      "0 100 100 5 5\n",
      "1 95 95 -5 -5\n",
      "2 90 90 -5 -5\n",
      "3 85 85 -5 -5\n",
      "4 80 80 -5 -5\n",
      "5 75 75 -5 -5\n",
      "6 70 70 -5 -5\n",
      "7 65 65 -5 -5\n",
      "8 60 60 -5 -5\n",
      "9 55 55 -5 -5\n",
      "10 50 50 -5 -5\n",
      "11 45 45 -5 -5\n",
      "12 40 40 -5 -5\n",
      "13 35 35 -5 -5\n",
      "14 30 30 -5 -5\n",
      "15 25 25 -5 -5\n",
      "16 20 20 -5 -5\n",
      "17 15 15 -5 -5\n",
      "18 10 10 -5 -5\n",
      "19 5 5 -5 -5\n",
      "20 0 0 -5 -5\n",
      "21 5 5 5 5\n",
      "22 10 10 5 5\n",
      "23 15 15 5 5\n",
      "24 20 20 5 5\n",
      "25 25 25 5 5\n",
      "26 30 30 5 5\n",
      "27 35 35 5 5\n",
      "28 40 40 5 5\n",
      "29 45 45 5 5\n",
      "30 50 50 5 5\n",
      "31 55 55 5 5\n",
      "32 60 60 5 5\n",
      "33 65 65 5 5\n",
      "34 70 70 5 5\n",
      "35 75 75 5 5\n",
      "36 80 80 5 5\n",
      "37 85 85 5 5\n",
      "38 90 90 5 5\n",
      "39 95 95 5 5\n",
      "40 100 100 5 5\n",
      "41 95 95 -5 -5\n",
      "42 90 90 -5 -5\n",
      "43 85 85 -5 -5\n",
      "44 80 80 -5 -5\n",
      "45 75 75 -5 -5\n",
      "46 70 70 -5 -5\n",
      "47 65 65 -5 -5\n",
      "48 60 60 -5 -5\n",
      "49 55 55 -5 -5\n"
     ]
    }
   ],
   "source": [
    "x, y, dx, dy = 95, 95, 5, 5\n",
    "\n",
    "for t in range(50):\n",
    "    x, y, dx, dy = shaiba(x, y, dx, dy)\n",
    "    print(t, x, y, dx, dy)"
   ]
  },
  {
   "cell_type": "code",
   "execution_count": 4,
   "metadata": {
    "collapsed": false
   },
   "outputs": [],
   "source": [
    "import turtle\n",
    "def shaiba(x, y, dx, dy):\n",
    "    if x + dx > 100 or x + dx < 0:\n",
    "        dx = dx*(-1)\n",
    "    if y + dy > 100 or y + dy < 0:\n",
    "        dy = dy*(-1)\n",
    "    x += dx\n",
    "    y += dy\n",
    "    return x, y, dx, dy\n",
    "\n",
    "def hockey(x, y, dx, dy, n):\n",
    "    turtle.pu()\n",
    "    turtle.goto(x, y)\n",
    "    for i in range(n):\n",
    "        shaiba(x, y, dx, dy)\n",
    "        turtle.goto(x, y)\n",
    "        return\n",
    "    \n",
    "hockey(95, 70, 13, 4, 15)"
   ]
  },
  {
   "cell_type": "code",
   "execution_count": 5,
   "metadata": {
    "collapsed": false
   },
   "outputs": [],
   "source": []
  },
  {
   "cell_type": "code",
   "execution_count": 1,
   "metadata": {
    "collapsed": true
   },
   "outputs": [],
   "source": [
    "def opposite_x(x, dx):\n",
    "    x = x+(-dx)\n",
    "    return x\n",
    "def opposite_y(y, dy):\n",
    "    y = y+(-dy)\n",
    "    return y"
   ]
  },
  {
   "cell_type": "code",
   "execution_count": 7,
   "metadata": {
    "collapsed": true
   },
   "outputs": [],
   "source": [
    "dx = 1"
   ]
  },
  {
   "cell_type": "code",
   "execution_count": 8,
   "metadata": {
    "collapsed": false
   },
   "outputs": [
    {
     "name": "stdout",
     "output_type": "stream",
     "text": [
      "-1\n"
     ]
    }
   ],
   "source": [
    "print(-dx)"
   ]
  },
  {
   "cell_type": "code",
   "execution_count": 7,
   "metadata": {
    "collapsed": false
   },
   "outputs": [],
   "source": [
    "def sum_integers(n):                                                    \n",
    "    s=0                                                                  \n",
    "    t=1                                                                  \n",
    "    while t < n+1:                                                         \n",
    "        s = s+t\n",
    "        t +=1\n",
    "    return s "
   ]
  },
  {
   "cell_type": "code",
   "execution_count": 8,
   "metadata": {
    "collapsed": false
   },
   "outputs": [
    {
     "data": {
      "text/plain": [
       "210"
      ]
     },
     "execution_count": 8,
     "metadata": {},
     "output_type": "execute_result"
    }
   ],
   "source": [
    "sum_integers(20)"
   ]
  },
  {
   "cell_type": "code",
   "execution_count": 29,
   "metadata": {
    "collapsed": false
   },
   "outputs": [],
   "source": [
    "def permutation(p):\n",
    "    n = len(p)\n",
    "    if n <= 1:\n",
    "        return p\n",
    "    for i in range(1, n+1):\n",
    "        p[i], p[i+1] = p[i+1], p[i]\n",
    "    print(p)"
   ]
  },
  {
   "cell_type": "code",
   "execution_count": 31,
   "metadata": {
    "collapsed": false
   },
   "outputs": [
    {
     "ename": "IndexError",
     "evalue": "list index out of range",
     "output_type": "error",
     "traceback": [
      "\u001b[0;31m---------------------------------------------------------------------------\u001b[0m",
      "\u001b[0;31mIndexError\u001b[0m                                Traceback (most recent call last)",
      "\u001b[0;32m<ipython-input-31-79b411315e85>\u001b[0m in \u001b[0;36m<module>\u001b[0;34m()\u001b[0m\n\u001b[1;32m      1\u001b[0m \u001b[0mp\u001b[0m \u001b[0;34m=\u001b[0m \u001b[0;34m[\u001b[0m\u001b[0;36m1\u001b[0m\u001b[0;34m,\u001b[0m \u001b[0;36m2\u001b[0m\u001b[0;34m,\u001b[0m \u001b[0;36m3\u001b[0m\u001b[0;34m]\u001b[0m\u001b[0;34m\u001b[0m\u001b[0m\n\u001b[0;32m----> 2\u001b[0;31m \u001b[0mpermutation\u001b[0m\u001b[0;34m(\u001b[0m\u001b[0mp\u001b[0m\u001b[0;34m)\u001b[0m\u001b[0;34m\u001b[0m\u001b[0m\n\u001b[0m",
      "\u001b[0;32m<ipython-input-29-40108a1d22c0>\u001b[0m in \u001b[0;36mpermutation\u001b[0;34m(p)\u001b[0m\n\u001b[1;32m      4\u001b[0m         \u001b[0;32mreturn\u001b[0m \u001b[0mp\u001b[0m\u001b[0;34m\u001b[0m\u001b[0m\n\u001b[1;32m      5\u001b[0m     \u001b[0;32mfor\u001b[0m \u001b[0mi\u001b[0m \u001b[0;32min\u001b[0m \u001b[0mrange\u001b[0m\u001b[0;34m(\u001b[0m\u001b[0;36m1\u001b[0m\u001b[0;34m,\u001b[0m \u001b[0mn\u001b[0m\u001b[0;34m+\u001b[0m\u001b[0;36m1\u001b[0m\u001b[0;34m)\u001b[0m\u001b[0;34m:\u001b[0m\u001b[0;34m\u001b[0m\u001b[0m\n\u001b[0;32m----> 6\u001b[0;31m         \u001b[0mp\u001b[0m\u001b[0;34m[\u001b[0m\u001b[0mi\u001b[0m\u001b[0;34m]\u001b[0m\u001b[0;34m,\u001b[0m \u001b[0mp\u001b[0m\u001b[0;34m[\u001b[0m\u001b[0mi\u001b[0m\u001b[0;34m+\u001b[0m\u001b[0;36m1\u001b[0m\u001b[0;34m]\u001b[0m \u001b[0;34m=\u001b[0m \u001b[0mp\u001b[0m\u001b[0;34m[\u001b[0m\u001b[0mi\u001b[0m\u001b[0;34m+\u001b[0m\u001b[0;36m1\u001b[0m\u001b[0;34m]\u001b[0m\u001b[0;34m,\u001b[0m \u001b[0mp\u001b[0m\u001b[0;34m[\u001b[0m\u001b[0mi\u001b[0m\u001b[0;34m]\u001b[0m\u001b[0;34m\u001b[0m\u001b[0m\n\u001b[0m\u001b[1;32m      7\u001b[0m     \u001b[0mprint\u001b[0m\u001b[0;34m(\u001b[0m\u001b[0mp\u001b[0m\u001b[0;34m)\u001b[0m\u001b[0;34m\u001b[0m\u001b[0m\n",
      "\u001b[0;31mIndexError\u001b[0m: list index out of range"
     ]
    }
   ],
   "source": [
    "p = [1, 2, 3]\n",
    "permutation(p)"
   ]
  },
  {
   "cell_type": "code",
   "execution_count": 7,
   "metadata": {
    "collapsed": false
   },
   "outputs": [],
   "source": [
    "def permute(p):\n",
    "    if len(p) == 1:\n",
    "        return p\n",
    "    if len(p) == 0:\n",
    "        return 0\n",
    "    else:\n",
    "        for i in range(len(p)):\n",
    "            for j in range(len(p)):\n",
    "#            print(p[0])\n",
    "                p[i], p[j] = p[j], p[i]\n",
    "#            p[0], p[-1] = p[-1], p[0]\n",
    "#            print(p[-1])\n",
    "#            p[1-i], p[i] == p[i], p[i-1]\n",
    "        return p"
   ]
  },
  {
   "cell_type": "code",
   "execution_count": 8,
   "metadata": {
    "collapsed": false
   },
   "outputs": [
    {
     "data": {
      "text/plain": [
       "[3, 1, 2]"
      ]
     },
     "execution_count": 8,
     "metadata": {},
     "output_type": "execute_result"
    }
   ],
   "source": [
    "p = [1, 2, 3]\n",
    "permute(p)"
   ]
  },
  {
   "cell_type": "code",
   "execution_count": 29,
   "metadata": {
    "collapsed": false
   },
   "outputs": [],
   "source": [
    "def permute(p):\n",
    "    for i in range(len(p)):\n",
    "        t = i+1\n",
    "        for t in range(len(p)):\n",
    "            while i < t:\n",
    "                    p[i], p[t] = p[t], p[i]\n",
    "    return p"
   ]
  },
  {
   "cell_type": "code",
   "execution_count": null,
   "metadata": {
    "collapsed": false
   },
   "outputs": [],
   "source": [
    "p = [1, 2, 3]\n",
    "list(permute(p))"
   ]
  },
  {
   "cell_type": "code",
   "execution_count": 55,
   "metadata": {
    "collapsed": false
   },
   "outputs": [],
   "source": []
  },
  {
   "cell_type": "code",
   "execution_count": 47,
   "metadata": {
    "collapsed": false
   },
   "outputs": [
    {
     "name": "stdout",
     "output_type": "stream",
     "text": [
      "[(9, 10, 11), (9, 11, 10), (10, 9, 11), (10, 11, 9), (11, 9, 10), (11, 10, 9)]\n"
     ]
    }
   ],
   "source": [
    "import itertools\n",
    "p = [9, 10, 11]\n",
    "print(list(itertools.permutations(p)))"
   ]
  },
  {
   "cell_type": "code",
   "execution_count": null,
   "metadata": {
    "collapsed": true
   },
   "outputs": [],
   "source": []
  },
  {
   "cell_type": "code",
   "execution_count": 17,
   "metadata": {
    "collapsed": false
   },
   "outputs": [
    {
     "name": "stdout",
     "output_type": "stream",
     "text": [
      "[1, 3, 2]\n",
      "[1, 3, 2]\n"
     ]
    }
   ],
   "source": [
    "p = [1, 2, 3]\n",
    "n = len(p)\n",
    "for i in range(n-i):\n",
    "    while p[i+1] < p[-1]:\n",
    "        p[i+1], p[-1] = p[-1], p[i+1]\n",
    "    print(p)"
   ]
  },
  {
   "cell_type": "code",
   "execution_count": 5,
   "metadata": {
    "collapsed": false
   },
   "outputs": [],
   "source": [
    "p = [1, 2, 3]\n",
    "def next_permute(p):\n",
    "    n = len(p)\n",
    "    for i in range(n):\n",
    "        p[1], p[-1] = p[-1], p[1]\n",
    "    return p"
   ]
  },
  {
   "cell_type": "code",
   "execution_count": 6,
   "metadata": {
    "collapsed": false
   },
   "outputs": [
    {
     "data": {
      "text/plain": [
       "[1, 3, 2]"
      ]
     },
     "execution_count": 6,
     "metadata": {},
     "output_type": "execute_result"
    }
   ],
   "source": [
    "list(next_permute(p))"
   ]
  },
  {
   "cell_type": "code",
   "execution_count": 1,
   "metadata": {
    "collapsed": false
   },
   "outputs": [],
   "source": [
    "p = [1, 2, 3]\n",
    "def next_permute(p):\n",
    "    n = len(p)\n",
    "    for i in range(n):\n",
    "        p[i], p[-i] = p[-i], p[i]\n",
    "    return p"
   ]
  },
  {
   "cell_type": "code",
   "execution_count": 4,
   "metadata": {
    "collapsed": false
   },
   "outputs": [
    {
     "data": {
      "text/plain": [
       "[1, 2, 3]"
      ]
     },
     "execution_count": 4,
     "metadata": {},
     "output_type": "execute_result"
    }
   ],
   "source": [
    "list(next_permute(p))"
   ]
  },
  {
   "cell_type": "code",
   "execution_count": 25,
   "metadata": {
    "collapsed": false
   },
   "outputs": [
    {
     "name": "stdout",
     "output_type": "stream",
     "text": [
      "[2, 3, 1]\n"
     ]
    }
   ],
   "source": [
    "p = [1, 3, 2]\n",
    "p[0], p[-1] = p[-1], p[0]\n",
    "print(p)"
   ]
  },
  {
   "cell_type": "code",
   "execution_count": 44,
   "metadata": {
    "collapsed": false
   },
   "outputs": [
    {
     "data": {
      "text/plain": [
       "5"
      ]
     },
     "execution_count": 44,
     "metadata": {},
     "output_type": "execute_result"
    }
   ],
   "source": [
    "p[-1]"
   ]
  },
  {
   "cell_type": "code",
   "execution_count": null,
   "metadata": {
    "collapsed": true
   },
   "outputs": [],
   "source": []
  },
  {
   "cell_type": "code",
   "execution_count": null,
   "metadata": {
    "collapsed": true
   },
   "outputs": [],
   "source": []
  },
  {
   "cell_type": "code",
   "execution_count": null,
   "metadata": {
    "collapsed": true
   },
   "outputs": [],
   "source": []
  },
  {
   "cell_type": "code",
   "execution_count": null,
   "metadata": {
    "collapsed": true
   },
   "outputs": [],
   "source": []
  },
  {
   "cell_type": "code",
   "execution_count": null,
   "metadata": {
    "collapsed": true
   },
   "outputs": [],
   "source": []
  },
  {
   "cell_type": "code",
   "execution_count": null,
   "metadata": {
    "collapsed": true
   },
   "outputs": [],
   "source": []
  },
  {
   "cell_type": "code",
   "execution_count": null,
   "metadata": {
    "collapsed": true
   },
   "outputs": [],
   "source": []
  },
  {
   "cell_type": "code",
   "execution_count": null,
   "metadata": {
    "collapsed": true
   },
   "outputs": [],
   "source": []
  },
  {
   "cell_type": "code",
   "execution_count": null,
   "metadata": {
    "collapsed": true
   },
   "outputs": [],
   "source": []
  },
  {
   "cell_type": "code",
   "execution_count": null,
   "metadata": {
    "collapsed": true
   },
   "outputs": [],
   "source": []
  },
  {
   "cell_type": "code",
   "execution_count": null,
   "metadata": {
    "collapsed": true
   },
   "outputs": [],
   "source": []
  },
  {
   "cell_type": "code",
   "execution_count": null,
   "metadata": {
    "collapsed": false
   },
   "outputs": [],
   "source": []
  },
  {
   "cell_type": "code",
   "execution_count": null,
   "metadata": {
    "collapsed": true
   },
   "outputs": [],
   "source": []
  },
  {
   "cell_type": "code",
   "execution_count": null,
   "metadata": {
    "collapsed": true
   },
   "outputs": [],
   "source": []
  },
  {
   "cell_type": "code",
   "execution_count": null,
   "metadata": {
    "collapsed": true
   },
   "outputs": [],
   "source": []
  },
  {
   "cell_type": "code",
   "execution_count": null,
   "metadata": {
    "collapsed": true
   },
   "outputs": [],
   "source": []
  },
  {
   "cell_type": "code",
   "execution_count": null,
   "metadata": {
    "collapsed": true
   },
   "outputs": [],
   "source": []
  },
  {
   "cell_type": "code",
   "execution_count": null,
   "metadata": {
    "collapsed": true
   },
   "outputs": [],
   "source": []
  },
  {
   "cell_type": "code",
   "execution_count": null,
   "metadata": {
    "collapsed": true
   },
   "outputs": [],
   "source": []
  }
 ],
 "metadata": {
  "kernelspec": {
   "display_name": "Python 3",
   "language": "python",
   "name": "python3"
  },
  "language_info": {
   "codemirror_mode": {
    "name": "ipython",
    "version": 3
   },
   "file_extension": ".py",
   "mimetype": "text/x-python",
   "name": "python",
   "nbconvert_exporter": "python",
   "pygments_lexer": "ipython3",
   "version": "3.5.1"
  }
 },
 "nbformat": 4,
 "nbformat_minor": 0
}
