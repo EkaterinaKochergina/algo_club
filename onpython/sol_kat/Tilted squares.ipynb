{
 "cells": [
  {
   "cell_type": "code",
   "execution_count": 7,
   "metadata": {
    "collapsed": false,
    "scrolled": true
   },
   "outputs": [
    {
     "data": {
      "text/plain": [
       "''"
      ]
     },
     "execution_count": 7,
     "metadata": {},
     "output_type": "execute_result"
    }
   ],
   "source": [
    "import turtle\n",
    "#from Tkinter import *\n",
    "from turtle import *\n",
    "\n",
    "turtle.home()\n",
    "turtle.clear()\n",
    "def tilted_square():\n",
    "    turtle.left(45)     # now we can change the angle only here\n",
    "    for i in range(4):\n",
    "        turtle.forward(50)\n",
    "        turtle.left(90)\n",
    "    return\n",
    "\n",
    "for i in range (8):\n",
    "    tilted_square()\n",
    "\n",
    "ts = turtle.getscreen()\n",
    "ts.getcanvas().postscript(file=\"tilted_squares.eps\")"
   ]
  }
 ],
 "metadata": {
  "kernelspec": {
   "display_name": "Python 3",
   "language": "python",
   "name": "python3"
  },
  "language_info": {
   "codemirror_mode": {
    "name": "ipython",
    "version": 3
   },
   "file_extension": ".py",
   "mimetype": "text/x-python",
   "name": "python",
   "nbconvert_exporter": "python",
   "pygments_lexer": "ipython3",
   "version": "3.5.1"
  }
 },
 "nbformat": 4,
 "nbformat_minor": 0
}
