{
 "cells": [
  {
   "cell_type": "code",
   "execution_count": null,
   "metadata": {
    "collapsed": false
   },
   "outputs": [],
   "source": [
    "#!/usr/bin/python\n",
    "import turtle\n",
    "import math\n",
    "psi=0\n",
    "while psi<100:\n",
    "    turtle.clear()\n",
    "    q=0\n",
    "    psi +=0.1\n",
    "    while q<2*math.pi:\n",
    "        x=200*math.cos(3*q)\n",
    "        y=200*math.cos(7*q)\n",
    "        if q==0:\n",
    "            turtle.up()\n",
    "        else:\n",
    "            turtle.down()\n",
    "        turtle.goto(x,y)\n",
    "        turtle.down()\n"
   ]
  },
  {
   "cell_type": "code",
   "execution_count": null,
   "metadata": {
    "collapsed": true
   },
   "outputs": [],
   "source": []
  }
 ],
 "metadata": {
  "kernelspec": {
   "display_name": "Python 3",
   "language": "python",
   "name": "python3"
  },
  "language_info": {
   "codemirror_mode": {
    "name": "ipython",
    "version": 3
   },
   "file_extension": ".py",
   "mimetype": "text/x-python",
   "name": "python",
   "nbconvert_exporter": "python",
   "pygments_lexer": "ipython3",
   "version": "3.5.1"
  }
 },
 "nbformat": 4,
 "nbformat_minor": 0
}
