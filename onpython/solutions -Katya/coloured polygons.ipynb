{
 "cells": [
  {
   "cell_type": "code",
   "execution_count": 2,
   "metadata": {
    "collapsed": false
   },
   "outputs": [
    {
     "name": "stdout",
     "output_type": "stream",
     "text": [
      "Enter the side number of the shape you want to draw: 4\n",
      "(41.36,43.33)\n",
      "(-1.97,79.70)\n",
      "(-38.33,36.36)\n",
      "(5.00,-0.00)\n",
      "(39.26,49.51)\n",
      "(-9.73,77.80)\n",
      "(-38.01,28.81)\n",
      "(10.98,0.52)\n"
     ]
    },
    {
     "data": {
      "text/plain": [
       "'10.9771681885505 447.522934456486 moveto\\n0.989740526436295 450.023192182009 lineto\\n4.21568740452696 445.711201140768 lineto\\n3.57793097746134 440.363933919118 lineto\\n10.9771681885505 447.522934456486 lineto\\n0.969 0.671 0.475 setrgbcolor AdjustColor\\neofill\\n10.9771681885505 447.522934456486 moveto\\n0.989740526436295 450.023192182009 lineto\\n4.21568740452696 445.711201140768 lineto\\n3.57793097746134 440.363933919118 lineto\\n10.9771681885505 447.522934456486 lineto\\n1 setlinejoin 1 setlinecap\\n1 setlinewidth\\n[] 0 setdash\\n0.969 0.671 0.475 setrgbcolor AdjustColor\\nstroke\\n'"
      ]
     },
     "execution_count": 2,
     "metadata": {},
     "output_type": "execute_result"
    }
   ],
   "source": [
    "#!/usr/bin/python\n",
    "import turtle\n",
    "from turtle import *\n",
    "import time\n",
    "import random\n",
    "\n",
    "turtle.home()\n",
    "turtle.clear()\n",
    "num_str = input(\"Enter the side number of the shape you want to draw: \")\n",
    "if num_str.isdigit():\n",
    "    squares = int(num_str)\n",
    "angle = 180 - 180*(squares-2)/squares\n",
    "turtle.up\n",
    "x = 0 \n",
    "y = 0\n",
    "turtle.setpos(x,y)\n",
    "numshapes = 2\n",
    "for x in range(numshapes):\n",
    "    turtle.color(random.random(),random.random(), random.random())\n",
    "    x += 5\n",
    "    y += 5\n",
    "    turtle.forward(x)\n",
    "    turtle.left(y)\n",
    "    for i in range(squares):\n",
    "        turtle.begin_fill()\n",
    "        turtle.down()\n",
    "        turtle.forward(40)\n",
    "        turtle.left(angle)\n",
    "        turtle.forward(40)\n",
    "        print (turtle.pos())\n",
    "        turtle.up()\n",
    "        turtle.end_fill()\n",
    "\n",
    "ts = turtle.getscreen()\n",
    "ts.getcanvas().postscript(file=\"coloured_polygons.eps\")"
   ]
  },
  {
   "cell_type": "code",
   "execution_count": null,
   "metadata": {
    "collapsed": true
   },
   "outputs": [],
   "source": []
  }
 ],
 "metadata": {
  "kernelspec": {
   "display_name": "Python 3",
   "language": "python",
   "name": "python3"
  },
  "language_info": {
   "codemirror_mode": {
    "name": "ipython",
    "version": 3
   },
   "file_extension": ".py",
   "mimetype": "text/x-python",
   "name": "python",
   "nbconvert_exporter": "python",
   "pygments_lexer": "ipython3",
   "version": "3.5.2"
  }
 },
 "nbformat": 4,
 "nbformat_minor": 0
}
