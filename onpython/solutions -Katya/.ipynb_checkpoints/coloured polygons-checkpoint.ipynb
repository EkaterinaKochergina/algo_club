{
 "cells": [
  {
   "cell_type": "code",
   "execution_count": 2,
   "metadata": {
    "collapsed": false
   },
   "outputs": [
    {
     "name": "stdout",
     "output_type": "stream",
     "text": [
      "Enter the side number of the shape you want to draw: 9\n",
      "(73.13,31.77)\n",
      "(104.90,99.90)\n",
      "(85.45,172.52)\n",
      "(23.87,215.64)\n",
      "(-51.02,209.08)\n",
      "(-104.18,155.93)\n",
      "(-110.73,81.04)\n",
      "(-67.61,19.46)\n",
      "(5.00,-0.00)\n",
      "(72.56,43.64)\n",
      "(92.01,116.26)\n",
      "(60.24,184.39)\n",
      "(-7.89,216.16)\n",
      "(-80.50,196.70)\n",
      "(-123.62,135.12)\n",
      "(-117.07,60.23)\n",
      "(-63.91,7.07)\n",
      "(10.98,0.52)\n"
     ]
    },
    {
     "data": {
      "text/plain": [
       "''"
      ]
     },
     "execution_count": 2,
     "metadata": {},
     "output_type": "execute_result"
    }
   ],
   "source": [
    "#!/usr/bin/python\n",
    "import turtle\n",
    "from turtle import *\n",
    "import time\n",
    "import random\n",
    "\n",
    "turtle.home()\n",
    "turtle.clear()\n",
    "num_str = input(\"Enter the side number of the shape you want to draw: \")\n",
    "if num_str.isdigit():\n",
    "    squares = int(num_str)\n",
    "angle = 180 - 180*(squares-2)/squares\n",
    "turtle.up\n",
    "x = 0 \n",
    "y = 0\n",
    "turtle.setpos(x,y)\n",
    "numshapes = 2\n",
    "for x in range(numshapes):\n",
    "    turtle.color(random.random(),random.random(), random.random())\n",
    "    x += 5\n",
    "    y += 5\n",
    "    turtle.forward(x)\n",
    "    turtle.left(y)\n",
    "    for i in range(squares):\n",
    "        turtle.begin_fill()\n",
    "        turtle.down()\n",
    "        turtle.forward(40)\n",
    "        turtle.left(angle)\n",
    "        turtle.forward(40)\n",
    "        print (turtle.pos())\n",
    "        turtle.up()\n",
    "        turtle.end_fill()\n",
    "\n",
    "ts = turtle.getscreen()\n",
    "ts.getcanvas().postscript(file=\"coloured_polygons.eps\")"
   ]
  }
 ],
 "metadata": {
  "kernelspec": {
   "display_name": "Python 3",
   "language": "python",
   "name": "python3"
  },
  "language_info": {
   "codemirror_mode": {
    "name": "ipython",
    "version": 3
   },
   "file_extension": ".py",
   "mimetype": "text/x-python",
   "name": "python",
   "nbconvert_exporter": "python",
   "pygments_lexer": "ipython3",
   "version": "3.5.1"
  }
 },
 "nbformat": 4,
 "nbformat_minor": 0
}
