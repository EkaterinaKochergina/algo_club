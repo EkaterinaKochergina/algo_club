{
 "cells": [
  {
   "cell_type": "code",
   "execution_count": null,
   "metadata": {
    "collapsed": true
   },
   "outputs": [],
   "source": [
    "#!/usr/bin/python\n",
    "import turtle\n",
    "import time\n",
    "\n",
    "turtle.speed(0)\n",
    "\n",
    "def square(size, alter, color):\n",
    "    turtle.color('black')\n",
    "    turtle.begin_fill()\n",
    "    for t in range(4):\n",
    "        turtle.forward(size)\n",
    "        turtle.lt(90)\n",
    "    turtle.end_fill()\n",
    "    turtle.fd(size)\n",
    "    return\n",
    "\n",
    "def raw(size, alter, color1, color2):\n",
    "    for i in range(4):\n",
    "        if alter=='True':\n",
    "            square(size, alter, color1)\n",
    "            square(size, alter, color2)\n",
    "        else:\n",
    "            square(size, alter, color2)\n",
    "            square(size, alter, color1)   \n",
    "    return      \n",
    "    \n",
    "def chessboard(size,alter,color1,color2):\n",
    "    turtle.pu()\n",
    "    turtle.goto(-(size*4),(size*4))\n",
    "    for i in range(8):\n",
    "        raw(size, alter, color1, color2)\n",
    "        turtle.bk(size*8)\n",
    "        turtle.rt(90)\n",
    "        turtle.fd(size)\n",
    "        turtle.lt(90)\n",
    "        if alter==True:\n",
    "            alter==False\n",
    "        else:\n",
    "            alter==True\n",
    "        return\n",
    "\n",
    "chessboard(20, True,'black','white')"
   ]
  }
 ],
 "metadata": {
  "kernelspec": {
   "display_name": "Python 3",
   "language": "python",
   "name": "python3"
  },
  "language_info": {
   "codemirror_mode": {
    "name": "ipython",
    "version": 3
   },
   "file_extension": ".py",
   "mimetype": "text/x-python",
   "name": "python",
   "nbconvert_exporter": "python",
   "pygments_lexer": "ipython3",
   "version": "3.5.1"
  }
 },
 "nbformat": 4,
 "nbformat_minor": 0
}
