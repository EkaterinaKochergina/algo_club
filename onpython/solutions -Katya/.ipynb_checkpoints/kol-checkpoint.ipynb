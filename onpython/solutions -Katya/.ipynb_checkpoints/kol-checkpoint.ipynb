{
 "cells": [
  {
   "cell_type": "code",
   "execution_count": 145,
   "metadata": {
    "collapsed": false
   },
   "outputs": [],
   "source": [
    "import turtle as t\n",
    "t.home()\n",
    "t.clear()\n",
    "#x=0\n",
    "#y=0\n",
    "#def zab(kol):\n",
    " #       t.begin_fill()\n",
    "#        t.lt(90)\n",
    "#       t.fd(100)\n",
    "#        t.lt(45)\n",
    "#        t.fd(20)\n",
    "#       t.lt(90)\n",
    "#       t.fd(20)\n",
    "#        t.lt(45)\n",
    "#        t.fd(100)\n",
    "#        t.lt(90)\n",
    " #       t.fd(30)\n",
    "#        t.end_fill()\n",
    "#        return\n",
    "    \n",
    "    \n",
    "def raw(kol, alt, color1, color2):\n",
    "#    x +=30\n",
    "    t.pu()\n",
    "    t.fillcolor()\n",
    "    for i in range(1, kol+1):\n",
    "        t.begin_fill()\n",
    "        t.lt(90)\n",
    "        t.fd(100)\n",
    "        t.lt(45)\n",
    "        t.fd(20)\n",
    "        t.lt(90)\n",
    "        t.fd(20)\n",
    "        t.lt(45)\n",
    "        t.fd(100)\n",
    "        t.lt(90)\n",
    "        t.fd(30)\n",
    "        t.end_fill()\n",
    "        if alt:\n",
    "            alt=False\n",
    "            t.fillcolor(color1)\n",
    "        else:\n",
    "            alt=True\n",
    "            t.fillcolor(color2)\n",
    "#    return\n",
    "        t.goto((i*30), y)      "
   ]
  },
  {
   "cell_type": "code",
   "execution_count": 146,
   "metadata": {
    "collapsed": false
   },
   "outputs": [],
   "source": [
    "raw(10, True, 'black', 'red')"
   ]
  },
  {
   "cell_type": "code",
   "execution_count": 91,
   "metadata": {
    "collapsed": false
   },
   "outputs": [],
   "source": [
    "#import turtle as t\n",
    "t.clear()\n",
    "def square(l, c):\n",
    "    t.fillcolor(c)\n",
    "    t.begin_fill()\n",
    "    for i in range(4):\n",
    "        t.forward(25)\n",
    "        t.left(90)\n",
    "    t.end_fill()\n",
    "    return"
   ]
  },
  {
   "cell_type": "code",
   "execution_count": 92,
   "metadata": {
    "collapsed": false
   },
   "outputs": [],
   "source": [
    "square(4, 'magenta')"
   ]
  }
 ],
 "metadata": {
  "kernelspec": {
   "display_name": "Python 3",
   "language": "python",
   "name": "python3"
  },
  "language_info": {
   "codemirror_mode": {
    "name": "ipython",
    "version": 3
   },
   "file_extension": ".py",
   "mimetype": "text/x-python",
   "name": "python",
   "nbconvert_exporter": "python",
   "pygments_lexer": "ipython3",
   "version": "3.5.1"
  }
 },
 "nbformat": 4,
 "nbformat_minor": 0
}
