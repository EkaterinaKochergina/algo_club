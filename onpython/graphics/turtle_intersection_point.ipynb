{
 "cells": [
  {
   "cell_type": "code",
   "execution_count": 3,
   "metadata": {
    "collapsed": true
   },
   "outputs": [],
   "source": [
    "import turtle\n",
    "import math"
   ]
  },
  {
   "cell_type": "code",
   "execution_count": 2,
   "metadata": {
    "collapsed": true
   },
   "outputs": [],
   "source": [
    "turtle.forward(10)"
   ]
  },
  {
   "cell_type": "code",
   "execution_count": 4,
   "metadata": {
    "collapsed": true
   },
   "outputs": [],
   "source": [
    "turtle.hideturtle()"
   ]
  },
  {
   "cell_type": "code",
   "execution_count": 5,
   "metadata": {
    "collapsed": true
   },
   "outputs": [],
   "source": [
    "turtle.dot()"
   ]
  },
  {
   "cell_type": "code",
   "execution_count": 6,
   "metadata": {
    "collapsed": true
   },
   "outputs": [],
   "source": [
    "turtle.up()"
   ]
  },
  {
   "cell_type": "code",
   "execution_count": 7,
   "metadata": {
    "collapsed": true
   },
   "outputs": [],
   "source": [
    "turtle.forward(10)"
   ]
  },
  {
   "cell_type": "code",
   "execution_count": 8,
   "metadata": {
    "collapsed": true
   },
   "outputs": [],
   "source": [
    "turtle.dot()"
   ]
  },
  {
   "cell_type": "code",
   "execution_count": 9,
   "metadata": {
    "collapsed": true
   },
   "outputs": [
    {
     "name": "stdout",
     "output_type": "stream",
     "text": [
      "Help on function color in module turtle:\n",
      "\n",
      "color(*args)\n",
      "    Return or set the pencolor and fillcolor.\n",
      "    \n",
      "    Arguments:\n",
      "    Several input formats are allowed.\n",
      "    They use 0, 1, 2, or 3 arguments as follows:\n",
      "    \n",
      "    color()\n",
      "        Return the current pencolor and the current fillcolor\n",
      "        as a pair of color specification strings as are returned\n",
      "        by pencolor and fillcolor.\n",
      "    color(colorstring), color((r,g,b)), color(r,g,b)\n",
      "        inputs as in pencolor, set both, fillcolor and pencolor,\n",
      "        to the given value.\n",
      "    color(colorstring1, colorstring2),\n",
      "    color((r1,g1,b1), (r2,g2,b2))\n",
      "        equivalent to pencolor(colorstring1) and fillcolor(colorstring2)\n",
      "        and analogously, if the other input format is used.\n",
      "    \n",
      "    If turtleshape is a polygon, outline and interior of that polygon\n",
      "    is drawn with the newly set colors.\n",
      "    For mor info see: pencolor, fillcolor\n",
      "    \n",
      "    Example:\n",
      "    >>> color('red', 'green')\n",
      "    >>> color()\n",
      "    ('red', 'green')\n",
      "    >>> colormode(255)\n",
      "    >>> color((40, 80, 120), (160, 200, 240))\n",
      "    >>> color()\n",
      "    ('#285078', '#a0c8f0')\n",
      "\n"
     ]
    }
   ],
   "source": [
    "help(turtle.color)"
   ]
  },
  {
   "cell_type": "code",
   "execution_count": 23,
   "metadata": {
    "collapsed": false
   },
   "outputs": [],
   "source": [
    "turtle.fillcolor('red')"
   ]
  },
  {
   "cell_type": "code",
   "execution_count": 26,
   "metadata": {
    "collapsed": true
   },
   "outputs": [],
   "source": [
    "turtle.forward(10)\n",
    "turtle.dot()"
   ]
  },
  {
   "cell_type": "code",
   "execution_count": 12,
   "metadata": {
    "collapsed": true
   },
   "outputs": [
    {
     "name": "stdout",
     "output_type": "stream",
     "text": [
      "Help on function fillcolor in module turtle:\n",
      "\n",
      "fillcolor(*args)\n",
      "    Return or set the fillcolor.\n",
      "    \n",
      "    Arguments:\n",
      "    Four input formats are allowed:\n",
      "      - fillcolor()\n",
      "        Return the current fillcolor as color specification string,\n",
      "        possibly in hex-number format (see example).\n",
      "        May be used as input to another color/pencolor/fillcolor call.\n",
      "      - fillcolor(colorstring)\n",
      "        s is a Tk color specification string, such as \"red\" or \"yellow\"\n",
      "      - fillcolor((r, g, b))\n",
      "        *a tuple* of r, g, and b, which represent, an RGB color,\n",
      "        and each of r, g, and b are in the range 0..colormode,\n",
      "        where colormode is either 1.0 or 255\n",
      "      - fillcolor(r, g, b)\n",
      "        r, g, and b represent an RGB color, and each of r, g, and b\n",
      "        are in the range 0..colormode\n",
      "    \n",
      "    If turtleshape is a polygon, the interior of that polygon is drawn\n",
      "    with the newly set fillcolor.\n",
      "    \n",
      "    Example:\n",
      "    >>> fillcolor('violet')\n",
      "    >>> col = pencolor()\n",
      "    >>> fillcolor(col)\n",
      "    >>> fillcolor(0, .5, 0)\n",
      "\n"
     ]
    }
   ],
   "source": [
    "help(turtle.fillcolor)"
   ]
  },
  {
   "cell_type": "code",
   "execution_count": 25,
   "metadata": {
    "collapsed": true
   },
   "outputs": [],
   "source": [
    "turtle.pencolor('violet')"
   ]
  },
  {
   "cell_type": "code",
   "execution_count": 37,
   "metadata": {
    "collapsed": true
   },
   "outputs": [],
   "source": [
    "turtle.speed(9)"
   ]
  },
  {
   "cell_type": "code",
   "execution_count": 42,
   "metadata": {
    "collapsed": false
   },
   "outputs": [],
   "source": [
    "turtle.clear()\n",
    "turtle.pencolor('black')\n",
    "for p in range(64): \n",
    "    for q in range(64):\n",
    "        if (p&q) != 0:\n",
    "            continue\n",
    "        turtle.goto(q*5-50, p*5-50)\n",
    "        turtle.dot()"
   ]
  },
  {
   "cell_type": "code",
   "execution_count": 47,
   "metadata": {
    "collapsed": true
   },
   "outputs": [],
   "source": [
    "def draw_intersect(p11, p12, p21, p22):\n",
    "    turtle.clear()\n",
    "    turtle.up()\n",
    "    turtle.goto(*p11)\n",
    "    turtle.down()\n",
    "    turtle.goto(*p12)\n",
    "    turtle.up()\n",
    "    turtle.goto(*p21)\n",
    "    turtle.down()\n",
    "    turtle.goto(*p22)"
   ]
  },
  {
   "cell_type": "code",
   "execution_count": 48,
   "metadata": {
    "collapsed": true
   },
   "outputs": [],
   "source": [
    "turtle.clear()"
   ]
  },
  {
   "cell_type": "code",
   "execution_count": 49,
   "metadata": {
    "collapsed": true
   },
   "outputs": [],
   "source": [
    "draw_intersect((10, 10), (157, 67), (25, 81), (197, 12))"
   ]
  },
  {
   "cell_type": "code",
   "execution_count": 81,
   "metadata": {
    "collapsed": true
   },
   "outputs": [],
   "source": [
    "class Vec2(object):\n",
    "    def __str__(self):\n",
    "        return 'Vec2(%s)'%str(self.p)\n",
    "    def __init__(self, p):\n",
    "        self.p = p\n",
    "    def __add__(self, rhs):\n",
    "        return Vec2((self.p[0] + rhs.p[0], self.p[1] + rhs.p[1]))\n",
    "    def __mul__(self, rhs):\n",
    "        if type(rhs) ==\n",
    "        return Vec2((self.p[0] * rhs, self.p[1] * rhs))"
   ]
  },
  {
   "cell_type": "code",
   "execution_count": 82,
   "metadata": {
    "collapsed": true
   },
   "outputs": [],
   "source": [
    "v1=Vec2((1, 2))"
   ]
  },
  {
   "cell_type": "code",
   "execution_count": 83,
   "metadata": {
    "collapsed": true
   },
   "outputs": [],
   "source": [
    "v2=Vec2((30, 40))"
   ]
  },
  {
   "cell_type": "code",
   "execution_count": 84,
   "metadata": {
    "collapsed": false
   },
   "outputs": [
    {
     "data": {
      "text/plain": [
       "'Vec2((31, 42))'"
      ]
     },
     "execution_count": 84,
     "metadata": {},
     "output_type": "execute_result"
    }
   ],
   "source": [
    "str(v1+v2)"
   ]
  },
  {
   "cell_type": "code",
   "execution_count": 85,
   "metadata": {
    "collapsed": false
   },
   "outputs": [
    {
     "data": {
      "text/plain": [
       "int"
      ]
     },
     "execution_count": 85,
     "metadata": {},
     "output_type": "execute_result"
    }
   ],
   "source": [
    "type(1)"
   ]
  },
  {
   "cell_type": "code",
   "execution_count": 86,
   "metadata": {
    "collapsed": false
   },
   "outputs": [
    {
     "data": {
      "text/plain": [
       "float"
      ]
     },
     "execution_count": 86,
     "metadata": {},
     "output_type": "execute_result"
    }
   ],
   "source": [
    "type(1.)"
   ]
  },
  {
   "cell_type": "code",
   "execution_count": 87,
   "metadata": {
    "collapsed": true
   },
   "outputs": [],
   "source": [
    "import numbers"
   ]
  },
  {
   "cell_type": "code",
   "execution_count": 102,
   "metadata": {
    "collapsed": false
   },
   "outputs": [
    {
     "data": {
      "text/plain": [
       "False"
      ]
     },
     "execution_count": 102,
     "metadata": {},
     "output_type": "execute_result"
    }
   ],
   "source": [
    "isinstance(1., numbers.Integral)"
   ]
  },
  {
   "cell_type": "code",
   "execution_count": 97,
   "metadata": {
    "collapsed": false
   },
   "outputs": [
    {
     "data": {
      "text/plain": [
       "type"
      ]
     },
     "execution_count": 97,
     "metadata": {},
     "output_type": "execute_result"
    }
   ],
   "source": [
    "type(type(1))"
   ]
  },
  {
   "cell_type": "code",
   "execution_count": 98,
   "metadata": {
    "collapsed": false
   },
   "outputs": [
    {
     "name": "stdout",
     "output_type": "stream",
     "text": [
      "Help on class type in module builtins:\n",
      "\n",
      "class type(object)\n",
      " |  type(object_or_name, bases, dict)\n",
      " |  type(object) -> the object's type\n",
      " |  type(name, bases, dict) -> a new type\n",
      " |  \n",
      " |  Methods defined here:\n",
      " |  \n",
      " |  __call__(self, /, *args, **kwargs)\n",
      " |      Call self as a function.\n",
      " |  \n",
      " |  __delattr__(self, name, /)\n",
      " |      Implement delattr(self, name).\n",
      " |  \n",
      " |  __dir__(...)\n",
      " |      __dir__() -> list\n",
      " |      specialized __dir__ implementation for types\n",
      " |  \n",
      " |  __getattribute__(self, name, /)\n",
      " |      Return getattr(self, name).\n",
      " |  \n",
      " |  __init__(self, /, *args, **kwargs)\n",
      " |      Initialize self.  See help(type(self)) for accurate signature.\n",
      " |  \n",
      " |  __instancecheck__(...)\n",
      " |      __instancecheck__() -> bool\n",
      " |      check if an object is an instance\n",
      " |  \n",
      " |  __new__(*args, **kwargs)\n",
      " |      Create and return a new object.  See help(type) for accurate signature.\n",
      " |  \n",
      " |  __prepare__(...)\n",
      " |      __prepare__() -> dict\n",
      " |      used to create the namespace for the class statement\n",
      " |  \n",
      " |  __repr__(self, /)\n",
      " |      Return repr(self).\n",
      " |  \n",
      " |  __setattr__(self, name, value, /)\n",
      " |      Implement setattr(self, name, value).\n",
      " |  \n",
      " |  __sizeof__(...)\n",
      " |      __sizeof__() -> int\n",
      " |      return memory consumption of the type object\n",
      " |  \n",
      " |  __subclasscheck__(...)\n",
      " |      __subclasscheck__() -> bool\n",
      " |      check if a class is a subclass\n",
      " |  \n",
      " |  __subclasses__(...)\n",
      " |      __subclasses__() -> list of immediate subclasses\n",
      " |  \n",
      " |  mro(...)\n",
      " |      mro() -> list\n",
      " |      return a type's method resolution order\n",
      " |  \n",
      " |  ----------------------------------------------------------------------\n",
      " |  Data descriptors defined here:\n",
      " |  \n",
      " |  __abstractmethods__\n",
      " |  \n",
      " |  __dict__\n",
      " |  \n",
      " |  __text_signature__\n",
      " |  \n",
      " |  ----------------------------------------------------------------------\n",
      " |  Data and other attributes defined here:\n",
      " |  \n",
      " |  __base__ = <class 'object'>\n",
      " |      The most base type\n",
      " |  \n",
      " |  __bases__ = (<class 'object'>,)\n",
      " |  \n",
      " |  __basicsize__ = 864\n",
      " |  \n",
      " |  __dictoffset__ = 264\n",
      " |  \n",
      " |  __flags__ = 2148291584\n",
      " |  \n",
      " |  __itemsize__ = 40\n",
      " |  \n",
      " |  __mro__ = (<class 'type'>, <class 'object'>)\n",
      " |  \n",
      " |  __weakrefoffset__ = 368\n",
      "\n"
     ]
    }
   ],
   "source": [
    "help(type)"
   ]
  },
  {
   "cell_type": "code",
   "execution_count": null,
   "metadata": {
    "collapsed": true
   },
   "outputs": [],
   "source": []
  }
 ],
 "metadata": {
  "kernelspec": {
   "display_name": "Python 3",
   "language": "python",
   "name": "python3"
  },
  "language_info": {
   "codemirror_mode": {
    "name": "ipython",
    "version": 3
   },
   "file_extension": ".py",
   "mimetype": "text/x-python",
   "name": "python",
   "nbconvert_exporter": "python",
   "pygments_lexer": "ipython3",
   "version": "3.5.2"
  }
 },
 "nbformat": 4,
 "nbformat_minor": 1
}
